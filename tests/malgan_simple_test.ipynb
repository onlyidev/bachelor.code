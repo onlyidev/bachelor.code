{
 "cells": [
  {
   "cell_type": "code",
   "execution_count": null,
   "metadata": {},
   "outputs": [],
   "source": [
    "import mlflow\n",
    "import pandas as pd\n",
    "import numpy as np"
   ]
  },
  {
   "cell_type": "code",
   "execution_count": null,
   "metadata": {},
   "outputs": [],
   "source": [
    "ben = np.load('../data/trial_ben.npy')\n",
    "mal = np.load('../data/trial_mal.npy')\n",
    "print(ben,mal)"
   ]
  },
  {
   "cell_type": "code",
   "execution_count": null,
   "metadata": {},
   "outputs": [],
   "source": [
    "\n",
    "id = 'runs:/984c6217d8cb4da6bd79ff089cca7355'\n",
    "\n",
    "black_box = mlflow.pyfunc.load_model(f\"{id}/BB\")\n",
    "gen = mlflow.pyfunc.load_model(f\"{id}/generator\")\n",
    "print(black_box, gen)\n"
   ]
  },
  {
   "cell_type": "code",
   "execution_count": null,
   "metadata": {},
   "outputs": [],
   "source": [
    "entry = mal[0]\n",
    "initial_pred = black_box.predict(pd.DataFrame(mal))\n",
    "obf = gen.predict(pd.DataFrame(mal))"
   ]
  },
  {
   "cell_type": "code",
   "execution_count": null,
   "metadata": {},
   "outputs": [],
   "source": [
    "black_box.predict(obf)"
   ]
  }
 ],
 "metadata": {
  "kernelspec": {
   "display_name": ".venv",
   "language": "python",
   "name": "python3"
  },
  "language_info": {
   "codemirror_mode": {
    "name": "ipython",
    "version": 3
   },
   "file_extension": ".py",
   "mimetype": "text/x-python",
   "name": "python",
   "nbconvert_exporter": "python",
   "pygments_lexer": "ipython3",
   "version": "3.10.13"
  }
 },
 "nbformat": 4,
 "nbformat_minor": 2
}
