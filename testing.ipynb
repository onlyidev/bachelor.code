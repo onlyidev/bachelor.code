{
 "cells": [
  {
   "cell_type": "code",
   "execution_count": 1,
   "metadata": {},
   "outputs": [
    {
     "name": "stderr",
     "output_type": "stream",
     "text": [
      "2025/02/18 22:04:04 INFO mlflow.tracking.fluent: Experiment with name 'test_experiment' does not exist. Creating a new experiment.\n",
      "2025/02/18 22:04:04 WARNING mlflow.utils.git_utils: Failed to import Git (the Git executable is probably not on your PATH), so Git SHA is not available. Error: Failed to initialize: Bad git executable.\n",
      "The git executable must be specified in one of the following ways:\n",
      "    - be included in your $PATH\n",
      "    - be set via $GIT_PYTHON_GIT_EXECUTABLE\n",
      "    - explicitly set via git.refresh(<full-path-to-git-executable>)\n",
      "\n",
      "All git commands will error until this is rectified.\n",
      "\n",
      "This initial message can be silenced or aggravated in the future by setting the\n",
      "$GIT_PYTHON_REFRESH environment variable. Use one of the following values:\n",
      "    - quiet|q|silence|s|silent|none|n|0: for no message or exception\n",
      "    - warn|w|warning|log|l|1: for a warning message (logging level CRITICAL, displayed by default)\n",
      "    - error|e|exception|raise|r|2: for a raised exception\n",
      "\n",
      "Example:\n",
      "    export GIT_PYTHON_REFRESH=quiet\n",
      "\n"
     ]
    },
    {
     "name": "stdout",
     "output_type": "stream",
     "text": [
      "🏃 View run clean-shrike-623 at: http://mlops:5000/#/experiments/5/runs/641035844f11410aafc97bb5d4ecf578\n",
      "🧪 View experiment at: http://mlops:5000/#/experiments/5\n"
     ]
    }
   ],
   "source": [
    "import mlflow\n",
    "import os\n",
    "\n",
    "# Set the experiment name\n",
    "mlflow.set_experiment(\"test_experiment\")\n",
    "\n",
    "# Start a new run\n",
    "with mlflow.start_run():\n",
    "    # Log a parameter (key-value pair)\n",
    "    mlflow.log_param(\"param1\", 5)\n",
    "    \n",
    "    # Log a metric (key-value pair)\n",
    "    mlflow.log_metric(\"metric1\", 0.85)\n",
    "    \n",
    "    # Create a test artifact\n",
    "    artifact_path = \"test_artifact.txt\"\n",
    "    with open(artifact_path, \"w\") as f:\n",
    "        f.write(\"This is a test artifact.\")\n",
    "    \n",
    "    # Log the artifact\n",
    "    mlflow.log_artifact(artifact_path)\n",
    "    \n",
    "    # Remove the artifact file after logging\n",
    "    os.remove(artifact_path)"
   ]
  }
 ],
 "metadata": {
  "kernelspec": {
   "display_name": ".venv",
   "language": "python",
   "name": "python3"
  },
  "language_info": {
   "codemirror_mode": {
    "name": "ipython",
    "version": 3
   },
   "file_extension": ".py",
   "mimetype": "text/x-python",
   "name": "python",
   "nbconvert_exporter": "python",
   "pygments_lexer": "ipython3",
   "version": "3.10.13"
  }
 },
 "nbformat": 4,
 "nbformat_minor": 2
}
